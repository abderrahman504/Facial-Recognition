{
 "cells": [
  {
   "cell_type": "code",
   "execution_count": 2,
   "metadata": {},
   "outputs": [],
   "source": [
    "from PIL import Image\n",
    "import numpy as np"
   ]
  },
  {
   "cell_type": "markdown",
   "metadata": {},
   "source": [
    "2. Generate the Data Matrix and the Label vector"
   ]
  },
  {
   "cell_type": "code",
   "execution_count": 3,
   "metadata": {},
   "outputs": [
    {
     "name": "stdout",
     "output_type": "stream",
     "text": [
      "Data Matrix Shape: (400, 10304)\n",
      "Label Vector Shape: (400,)\n"
     ]
    }
   ],
   "source": [
    "def pgm_to_vector(file_path):\n",
    "    \"\"\" Convert a pgm file to a vector \"\"\"\n",
    "    img = Image.open(file_path)\n",
    "    img = img.convert('L')\n",
    "    img_data = list(img.getdata())\n",
    "    img_vector = np.array(img_data)\n",
    "    return img_vector.flatten()\n",
    "\n",
    "D = [] # Data Matrix\n",
    "y = [] # Label vector\n",
    "\n",
    "for subject_id in range(1, 41):\n",
    "    for file_id in range(1, 11):\n",
    "        img_vector = pgm_to_vector(f'data/s{subject_id}/{file_id}.pgm')\n",
    "        D.append(img_vector)\n",
    "        y.append(subject_id)\n",
    "\n",
    "D = np.array(D)\n",
    "y = np.array(y)\n",
    "\n",
    "print('Data Matrix Shape:', D.shape)\n",
    "print('Label Vector Shape:', y.shape)"
   ]
  },
  {
   "cell_type": "markdown",
   "metadata": {},
   "source": [
    "3. Split the Dataset into Training and Test sets"
   ]
  },
  {
   "cell_type": "code",
   "execution_count": 4,
   "metadata": {},
   "outputs": [
    {
     "name": "stdout",
     "output_type": "stream",
     "text": [
      "Training set shape: (200, 10304)\n",
      "Testing set shape:  (200, 10304)\n",
      "Training labels shape: (200,)\n",
      "Testing labels shape:  (200,)\n"
     ]
    }
   ],
   "source": [
    "X_train = D[::2]  # Odd rows for training\n",
    "X_test = D[1::2] # Even rows for testing\n",
    "\n",
    "y_train = y[::2] # Labels for training set\n",
    "y_test = y[1::2] # Labels for testing set\n",
    "\n",
    "print('Training set shape:', X_train.shape)\n",
    "print('Testing set shape: ', X_test.shape)\n",
    "\n",
    "print('Training labels shape:', y_train.shape)\n",
    "print('Testing labels shape: ', y_test.shape)"
   ]
  },
  {
   "cell_type": "markdown",
   "metadata": {},
   "source": [
    "4. Classification using PCA"
   ]
  },
  {
   "cell_type": "code",
   "execution_count": 10,
   "metadata": {},
   "outputs": [
    {
     "name": "stdout",
     "output_type": "stream",
     "text": [
      "Accuracy for different values of alpha: [0.95, 0.95, 0.94, 0.94]\n"
     ]
    }
   ],
   "source": [
    "# JUST A DEMO BY CHATGPT TO VALIDATE THE RESULTS OF OUR GREAT PCA IMPLEMENTATION\n",
    "from sklearn.decomposition import PCA\n",
    "from sklearn.neighbors import KNeighborsClassifier\n",
    "\n",
    "alphas = [0.8, 0.85, 0.9, 0.95]\n",
    "projection_matrices = []\n",
    "\n",
    "for alpha in alphas:\n",
    "    pca = PCA(alpha)\n",
    "    pca.fit(X_train)\n",
    "    U = pca.components_.T\n",
    "    projection_matrices.append(U)\n",
    "X_train_projected = [U.T.dot(X_train.T).T for U in projection_matrices]\n",
    "X_test_projected = [U.T.dot(X_test.T).T for U in projection_matrices]\n",
    "\n",
    "# Define the classifier\n",
    "classifier = KNeighborsClassifier(n_neighbors=1)\n",
    "\n",
    "# Train and predict for each projected training and test set\n",
    "accuracies = []\n",
    "for X_train_proj, X_test_proj in zip(X_train_projected, X_test_projected):\n",
    "    classifier.fit(X_train_proj, y_train)\n",
    "    accuracy = classifier.score(X_test_proj, y_test)\n",
    "    accuracies.append(accuracy)\n",
    "\n",
    "print(\"Accuracy for different values of alpha:\", accuracies)\n"
   ]
  },
  {
   "cell_type": "code",
   "execution_count": null,
   "metadata": {},
   "outputs": [],
   "source": [
    "def PCA():\n",
    "    ..."
   ]
  },
  {
   "cell_type": "markdown",
   "metadata": {},
   "source": [
    "5. Classification Using LDA"
   ]
  },
  {
   "cell_type": "code",
   "execution_count": 9,
   "metadata": {},
   "outputs": [
    {
     "name": "stdout",
     "output_type": "stream",
     "text": [
      "Accuracy for LDA: 0.955\n"
     ]
    }
   ],
   "source": [
    "# JUST A DEMO BY CHATGPT TO VALIDATE THE RESULTS OF OUR GREAT LDA IMPLEMENTATION\n",
    "from sklearn.discriminant_analysis import LinearDiscriminantAnalysis as LDA\n",
    "\n",
    "lda = LDA(n_components=39)\n",
    "lda.fit(X_train, y_train)\n",
    "U_lda = lda.scalings_.T\n",
    "\n",
    "X_train_lda = X_train.dot(U_lda.T)\n",
    "X_test_lda = X_test.dot(U_lda.T)\n",
    "\n",
    "\n",
    "from sklearn.neighbors import KNeighborsClassifier\n",
    "\n",
    "# Define the classifier\n",
    "classifier = KNeighborsClassifier(n_neighbors=1)\n",
    "\n",
    "# Train and predict\n",
    "classifier.fit(X_train_lda, y_train)\n",
    "accuracy_lda = classifier.score(X_test_lda, y_test)\n",
    "\n",
    "print(\"Accuracy for LDA:\", accuracy_lda)"
   ]
  },
  {
   "cell_type": "code",
   "execution_count": null,
   "metadata": {},
   "outputs": [],
   "source": [
    "def LDA():\n",
    "    ..."
   ]
  },
  {
   "cell_type": "markdown",
   "metadata": {},
   "source": [
    "6. Classifier Tuning"
   ]
  },
  {
   "cell_type": "code",
   "execution_count": null,
   "metadata": {},
   "outputs": [],
   "source": [
    "def KNN():\n",
    "    ..."
   ]
  },
  {
   "cell_type": "markdown",
   "metadata": {},
   "source": [
    "7. Compare vs Non-Face Images"
   ]
  },
  {
   "cell_type": "code",
   "execution_count": null,
   "metadata": {},
   "outputs": [],
   "source": [
    "# Code"
   ]
  },
  {
   "cell_type": "markdown",
   "metadata": {},
   "source": [
    "8. Bonus"
   ]
  },
  {
   "cell_type": "code",
   "execution_count": null,
   "metadata": {},
   "outputs": [],
   "source": [
    "# Code"
   ]
  }
 ],
 "metadata": {
  "kernelspec": {
   "display_name": "Python 3",
   "language": "python",
   "name": "python3"
  },
  "language_info": {
   "codemirror_mode": {
    "name": "ipython",
    "version": 3
   },
   "file_extension": ".py",
   "mimetype": "text/x-python",
   "name": "python",
   "nbconvert_exporter": "python",
   "pygments_lexer": "ipython3",
   "version": "3.12.0"
  }
 },
 "nbformat": 4,
 "nbformat_minor": 2
}
